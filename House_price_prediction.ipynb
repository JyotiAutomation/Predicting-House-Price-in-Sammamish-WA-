{
 "cells": [
  {
   "cell_type": "code",
   "execution_count": 1,
   "metadata": {
    "collapsed": true
   },
   "outputs": [],
   "source": [
    "%matplotlib inline\n",
    "\n",
    "import numpy as np\n",
    "import pandas as pd\n",
    "import seaborn as sns\n",
    "import matplotlib.pyplot as plt\n",
    "\n",
    "import sklearn\n",
    "from sklearn.linear_model import LinearRegression\n",
    "from sklearn.model_selection import train_test_split"
   ]
  },
  {
   "cell_type": "code",
   "execution_count": 2,
   "metadata": {
    "collapsed": true
   },
   "outputs": [],
   "source": [
    "from sklearn.metrics import mean_squared_error, mean_absolute_error, accuracy_score"
   ]
  },
  {
   "cell_type": "code",
   "execution_count": 3,
   "metadata": {
    "collapsed": true
   },
   "outputs": [],
   "source": [
    "from sklearn.ensemble import RandomForestRegressor"
   ]
  },
  {
   "cell_type": "code",
   "execution_count": 4,
   "metadata": {
    "collapsed": true
   },
   "outputs": [],
   "source": [
    "np.random.seed(42)"
   ]
  },
  {
   "cell_type": "code",
   "execution_count": 5,
   "metadata": {},
   "outputs": [
    {
     "data": {
      "text/html": [
       "<div>\n",
       "<style scoped>\n",
       "    .dataframe tbody tr th:only-of-type {\n",
       "        vertical-align: middle;\n",
       "    }\n",
       "\n",
       "    .dataframe tbody tr th {\n",
       "        vertical-align: top;\n",
       "    }\n",
       "\n",
       "    .dataframe thead th {\n",
       "        text-align: right;\n",
       "    }\n",
       "</style>\n",
       "<table border=\"1\" class=\"dataframe\">\n",
       "  <thead>\n",
       "    <tr style=\"text-align: right;\">\n",
       "      <th></th>\n",
       "      <th>ML Number</th>\n",
       "      <th>Status</th>\n",
       "      <th>List Price</th>\n",
       "      <th>Sold Price</th>\n",
       "      <th>Year</th>\n",
       "      <th>List Date</th>\n",
       "      <th>Sold Date</th>\n",
       "      <th>DOM</th>\n",
       "      <th>Address</th>\n",
       "      <th>City Name</th>\n",
       "      <th>...</th>\n",
       "      <th>Selling Office Name</th>\n",
       "      <th>Selling Office Phone</th>\n",
       "      <th>Senior Exemption</th>\n",
       "      <th>Sewer Company</th>\n",
       "      <th>Sewer Type</th>\n",
       "      <th>Show Addressto Public</th>\n",
       "      <th>Show Map Link</th>\n",
       "      <th>Site Features</th>\n",
       "      <th>Community</th>\n",
       "      <th>Sale Type</th>\n",
       "    </tr>\n",
       "  </thead>\n",
       "  <tbody>\n",
       "    <tr>\n",
       "      <th>0</th>\n",
       "      <td>466258.0</td>\n",
       "      <td>Sold</td>\n",
       "      <td>4499000.0</td>\n",
       "      <td>4036000.0</td>\n",
       "      <td>2013.0</td>\n",
       "      <td>4/1/2013</td>\n",
       "      <td>8/21/2013</td>\n",
       "      <td>117.0</td>\n",
       "      <td>222 E 208 Lake Sammamish Pkwy SE</td>\n",
       "      <td>Sammamish</td>\n",
       "      <td>...</td>\n",
       "      <td>Windermere Real Estate/East</td>\n",
       "      <td>(425) 455-5300</td>\n",
       "      <td>False</td>\n",
       "      <td>City of Sammamish</td>\n",
       "      <td>Sewer Connected</td>\n",
       "      <td>True</td>\n",
       "      <td>True</td>\n",
       "      <td>Cable TV, Deck, Disabled Access, Dog Run, Fenc...</td>\n",
       "      <td>East Lake Sammamish</td>\n",
       "      <td>MLS</td>\n",
       "    </tr>\n",
       "    <tr>\n",
       "      <th>1</th>\n",
       "      <td>435709.0</td>\n",
       "      <td>Sold</td>\n",
       "      <td>3700000.0</td>\n",
       "      <td>3685000.0</td>\n",
       "      <td>2013.0</td>\n",
       "      <td>1/8/2013</td>\n",
       "      <td>1/11/2013</td>\n",
       "      <td>NaN</td>\n",
       "      <td>333 E Lake Sammamish Pkwy SE</td>\n",
       "      <td>Sammamish</td>\n",
       "      <td>...</td>\n",
       "      <td>Windermere Real Estate/East</td>\n",
       "      <td>(425) 643-5500 x246</td>\n",
       "      <td>True</td>\n",
       "      <td>Sammamish Plateau</td>\n",
       "      <td>Available</td>\n",
       "      <td>True</td>\n",
       "      <td>True</td>\n",
       "      <td>Cable TV, Dock, Gas Available, High Speed Inte...</td>\n",
       "      <td>Lake Sammamish</td>\n",
       "      <td>MLS</td>\n",
       "    </tr>\n",
       "  </tbody>\n",
       "</table>\n",
       "<p>2 rows × 109 columns</p>\n",
       "</div>"
      ],
      "text/plain": [
       "   ML Number Status  List Price  Sold Price    Year List Date  Sold Date  \\\n",
       "0   466258.0   Sold   4499000.0   4036000.0  2013.0  4/1/2013  8/21/2013   \n",
       "1   435709.0   Sold   3700000.0   3685000.0  2013.0  1/8/2013  1/11/2013   \n",
       "\n",
       "     DOM                           Address  City Name  ...  \\\n",
       "0  117.0  222 E 208 Lake Sammamish Pkwy SE  Sammamish  ...   \n",
       "1    NaN      333 E Lake Sammamish Pkwy SE  Sammamish  ...   \n",
       "\n",
       "           Selling Office Name  Selling Office Phone Senior Exemption  \\\n",
       "0  Windermere Real Estate/East        (425) 455-5300            False   \n",
       "1  Windermere Real Estate/East   (425) 643-5500 x246             True   \n",
       "\n",
       "       Sewer Company       Sewer Type  Show Addressto Public  Show Map Link  \\\n",
       "0  City of Sammamish  Sewer Connected                   True           True   \n",
       "1  Sammamish Plateau        Available                   True           True   \n",
       "\n",
       "                                       Site Features            Community  \\\n",
       "0  Cable TV, Deck, Disabled Access, Dog Run, Fenc...  East Lake Sammamish   \n",
       "1  Cable TV, Dock, Gas Available, High Speed Inte...       Lake Sammamish   \n",
       "\n",
       "  Sale Type   \n",
       "0        MLS  \n",
       "1        MLS  \n",
       "\n",
       "[2 rows x 109 columns]"
      ]
     },
     "execution_count": 5,
     "metadata": {},
     "output_type": "execute_result"
    }
   ],
   "source": [
    "df = pd.read_csv(\"Sammamish-Training.csv\")\n",
    "\n",
    "df.head(2)"
   ]
  },
  {
   "cell_type": "code",
   "execution_count": 6,
   "metadata": {},
   "outputs": [
    {
     "data": {
      "text/plain": [
       "(4951, 109)"
      ]
     },
     "execution_count": 6,
     "metadata": {},
     "output_type": "execute_result"
    }
   ],
   "source": [
    "df.shape"
   ]
  },
  {
   "cell_type": "code",
   "execution_count": 7,
   "metadata": {
    "collapsed": true
   },
   "outputs": [],
   "source": [
    "drop_cols = [\"ML Number\", \"Status\",\"Address\",\"Zip Code\",\n",
    "             \"Track\",\"Showing Information\",\"Public Comments\",\"Remarks\",\"Levels\", \"Interior\",\n",
    "             \"Cross Street\",\"Unit Number\",\"Latitude\",\"Longitude\",\"Taxes Annual\",\"Leased Equipment\",\n",
    "             \"Legal Description\",\"Lot Measurement\",\"Lot Number\",\"Virtual Tour URL\",\"Photo Count\",\n",
    "             \"Manufactured Home Manufacturer\",\"Manufactured Home Model Number\",\"Manufactured Home Serial Number\",\n",
    "             \"Potential Terms\",\"Preliminary Title Ordered\",\"Publish to Internet\",\"School District\",\n",
    "             \"Selling Agent Cellular\",\"Selling Agent Full Name\",\"Selling Agent Id\", \"Map Code\",\n",
    "             \"Selling Office Id\", \"Selling Office Name\", \"Selling Office Phone\",\"Association Dues\", \"Tax Year\",\n",
    "             \"Senior Exemption\", \"Show Addressto Public\", \"Show Map Link\", \"Site Features\", \"Community\", \"Sale Type \",\n",
    "             \"City Name\", \"State\", \"Map Code\", \"Sewer Company\", \"Garage\", \"Style\", \"Heating and Cooling\", \n",
    "             \"Elementary School\", \"Junior High School\", \"High School\", \"Exterior\", \"Other Features\", \"APN\", \n",
    "             \"Builder\", \"Building Information\", \"Contingent Date\", \"Date Entered\", \"County\", \"Energy Source\", \n",
    "             \"Floor Covering\", \"Foundation\", \"Matrix Modified DT\",\"Lot Details\", \"Water\", \"Water Company\",\n",
    "             \"Waterfront Footage\", \"Water Heater Location\", \"Water Heater Type\", \"Status Change Date\", \n",
    "             \"Building Complex Or Project Name\", \"Topography\", \"Pending Date\", \"Phone to Show Number\",\n",
    "             \"Possession\", \"Power Company\", \"Roof\", \"Sewer Type\", 'Architecture', 'View', \"Area\", \"Inactive Date\",\n",
    "             \"Third Party Approval Required\"]"
   ]
  },
  {
   "cell_type": "code",
   "execution_count": 8,
   "metadata": {},
   "outputs": [
    {
     "data": {
      "text/plain": [
       "(4951, 25)"
      ]
     },
     "execution_count": 8,
     "metadata": {},
     "output_type": "execute_result"
    }
   ],
   "source": [
    "df = df.drop(drop_cols, axis=1)\n",
    "\n",
    "df.shape"
   ]
  },
  {
   "cell_type": "code",
   "execution_count": 9,
   "metadata": {},
   "outputs": [
    {
     "data": {
      "text/plain": [
       "array([dtype('float64'), dtype('O')], dtype=object)"
      ]
     },
     "execution_count": 9,
     "metadata": {},
     "output_type": "execute_result"
    }
   ],
   "source": [
    "df.dtypes.unique()"
   ]
  },
  {
   "cell_type": "code",
   "execution_count": 10,
   "metadata": {},
   "outputs": [
    {
     "data": {
      "text/html": [
       "<div>\n",
       "<style scoped>\n",
       "    .dataframe tbody tr th:only-of-type {\n",
       "        vertical-align: middle;\n",
       "    }\n",
       "\n",
       "    .dataframe tbody tr th {\n",
       "        vertical-align: top;\n",
       "    }\n",
       "\n",
       "    .dataframe thead th {\n",
       "        text-align: right;\n",
       "    }\n",
       "</style>\n",
       "<table border=\"1\" class=\"dataframe\">\n",
       "  <thead>\n",
       "    <tr style=\"text-align: right;\">\n",
       "      <th></th>\n",
       "      <th>count</th>\n",
       "      <th>unique</th>\n",
       "      <th>top</th>\n",
       "      <th>freq</th>\n",
       "      <th>mean</th>\n",
       "      <th>std</th>\n",
       "      <th>min</th>\n",
       "      <th>25%</th>\n",
       "      <th>50%</th>\n",
       "      <th>75%</th>\n",
       "      <th>max</th>\n",
       "    </tr>\n",
       "  </thead>\n",
       "  <tbody>\n",
       "    <tr>\n",
       "      <th>List Price</th>\n",
       "      <td>4947</td>\n",
       "      <td>NaN</td>\n",
       "      <td>NaN</td>\n",
       "      <td>NaN</td>\n",
       "      <td>771777</td>\n",
       "      <td>365102</td>\n",
       "      <td>65000</td>\n",
       "      <td>560000</td>\n",
       "      <td>729000</td>\n",
       "      <td>899950</td>\n",
       "      <td>4.55e+06</td>\n",
       "    </tr>\n",
       "    <tr>\n",
       "      <th>Sold Price</th>\n",
       "      <td>4948</td>\n",
       "      <td>NaN</td>\n",
       "      <td>NaN</td>\n",
       "      <td>NaN</td>\n",
       "      <td>774550</td>\n",
       "      <td>354888</td>\n",
       "      <td>1</td>\n",
       "      <td>567000</td>\n",
       "      <td>735950</td>\n",
       "      <td>912079</td>\n",
       "      <td>4.81e+06</td>\n",
       "    </tr>\n",
       "    <tr>\n",
       "      <th>Year</th>\n",
       "      <td>4948</td>\n",
       "      <td>NaN</td>\n",
       "      <td>NaN</td>\n",
       "      <td>NaN</td>\n",
       "      <td>2014.73</td>\n",
       "      <td>1.28376</td>\n",
       "      <td>2013</td>\n",
       "      <td>2014</td>\n",
       "      <td>2015</td>\n",
       "      <td>2016</td>\n",
       "      <td>2017</td>\n",
       "    </tr>\n",
       "    <tr>\n",
       "      <th>List Date</th>\n",
       "      <td>4948</td>\n",
       "      <td>1360</td>\n",
       "      <td>6/2/2016</td>\n",
       "      <td>24</td>\n",
       "      <td>NaN</td>\n",
       "      <td>NaN</td>\n",
       "      <td>NaN</td>\n",
       "      <td>NaN</td>\n",
       "      <td>NaN</td>\n",
       "      <td>NaN</td>\n",
       "      <td>NaN</td>\n",
       "    </tr>\n",
       "    <tr>\n",
       "      <th>Sold Date</th>\n",
       "      <td>4948</td>\n",
       "      <td>1106</td>\n",
       "      <td>6/28/2013</td>\n",
       "      <td>21</td>\n",
       "      <td>NaN</td>\n",
       "      <td>NaN</td>\n",
       "      <td>NaN</td>\n",
       "      <td>NaN</td>\n",
       "      <td>NaN</td>\n",
       "      <td>NaN</td>\n",
       "      <td>NaN</td>\n",
       "    </tr>\n",
       "    <tr>\n",
       "      <th>DOM</th>\n",
       "      <td>4628</td>\n",
       "      <td>NaN</td>\n",
       "      <td>NaN</td>\n",
       "      <td>NaN</td>\n",
       "      <td>32.1327</td>\n",
       "      <td>52.3878</td>\n",
       "      <td>1</td>\n",
       "      <td>5</td>\n",
       "      <td>10</td>\n",
       "      <td>36</td>\n",
       "      <td>923</td>\n",
       "    </tr>\n",
       "    <tr>\n",
       "      <th>Bedrooms</th>\n",
       "      <td>4947</td>\n",
       "      <td>NaN</td>\n",
       "      <td>NaN</td>\n",
       "      <td>NaN</td>\n",
       "      <td>3.78431</td>\n",
       "      <td>0.92554</td>\n",
       "      <td>0</td>\n",
       "      <td>3</td>\n",
       "      <td>4</td>\n",
       "      <td>4</td>\n",
       "      <td>9</td>\n",
       "    </tr>\n",
       "    <tr>\n",
       "      <th>Bathrooms</th>\n",
       "      <td>4947</td>\n",
       "      <td>NaN</td>\n",
       "      <td>NaN</td>\n",
       "      <td>NaN</td>\n",
       "      <td>2.76834</td>\n",
       "      <td>0.773068</td>\n",
       "      <td>0</td>\n",
       "      <td>2.5</td>\n",
       "      <td>2.5</td>\n",
       "      <td>3.25</td>\n",
       "      <td>7</td>\n",
       "    </tr>\n",
       "    <tr>\n",
       "      <th>Sq Foot</th>\n",
       "      <td>4948</td>\n",
       "      <td>NaN</td>\n",
       "      <td>NaN</td>\n",
       "      <td>NaN</td>\n",
       "      <td>2877.18</td>\n",
       "      <td>1056.65</td>\n",
       "      <td>0</td>\n",
       "      <td>2130</td>\n",
       "      <td>2880</td>\n",
       "      <td>3560</td>\n",
       "      <td>10380</td>\n",
       "    </tr>\n",
       "    <tr>\n",
       "      <th>Age</th>\n",
       "      <td>4947</td>\n",
       "      <td>NaN</td>\n",
       "      <td>NaN</td>\n",
       "      <td>NaN</td>\n",
       "      <td>1996.58</td>\n",
       "      <td>14.289</td>\n",
       "      <td>1905</td>\n",
       "      <td>1987</td>\n",
       "      <td>1999</td>\n",
       "      <td>2006</td>\n",
       "      <td>2106</td>\n",
       "    </tr>\n",
       "    <tr>\n",
       "      <th>Lot Size</th>\n",
       "      <td>4930</td>\n",
       "      <td>NaN</td>\n",
       "      <td>NaN</td>\n",
       "      <td>NaN</td>\n",
       "      <td>28038.5</td>\n",
       "      <td>96546.4</td>\n",
       "      <td>0</td>\n",
       "      <td>5936</td>\n",
       "      <td>9000</td>\n",
       "      <td>14186</td>\n",
       "      <td>1.07982e+06</td>\n",
       "    </tr>\n",
       "    <tr>\n",
       "      <th>Pool</th>\n",
       "      <td>100</td>\n",
       "      <td>4</td>\n",
       "      <td>Community</td>\n",
       "      <td>62</td>\n",
       "      <td>NaN</td>\n",
       "      <td>NaN</td>\n",
       "      <td>NaN</td>\n",
       "      <td>NaN</td>\n",
       "      <td>NaN</td>\n",
       "      <td>NaN</td>\n",
       "      <td>NaN</td>\n",
       "    </tr>\n",
       "    <tr>\n",
       "      <th>Property Type</th>\n",
       "      <td>4948</td>\n",
       "      <td>4</td>\n",
       "      <td>Residential</td>\n",
       "      <td>4462</td>\n",
       "      <td>NaN</td>\n",
       "      <td>NaN</td>\n",
       "      <td>NaN</td>\n",
       "      <td>NaN</td>\n",
       "      <td>NaN</td>\n",
       "      <td>NaN</td>\n",
       "      <td>NaN</td>\n",
       "    </tr>\n",
       "    <tr>\n",
       "      <th>Building Condition</th>\n",
       "      <td>3335</td>\n",
       "      <td>8</td>\n",
       "      <td>Very Good</td>\n",
       "      <td>1763</td>\n",
       "      <td>NaN</td>\n",
       "      <td>NaN</td>\n",
       "      <td>NaN</td>\n",
       "      <td>NaN</td>\n",
       "      <td>NaN</td>\n",
       "      <td>NaN</td>\n",
       "      <td>NaN</td>\n",
       "    </tr>\n",
       "    <tr>\n",
       "      <th>Bus Line Nearby</th>\n",
       "      <td>2544</td>\n",
       "      <td>2</td>\n",
       "      <td>True</td>\n",
       "      <td>2426</td>\n",
       "      <td>NaN</td>\n",
       "      <td>NaN</td>\n",
       "      <td>NaN</td>\n",
       "      <td>NaN</td>\n",
       "      <td>NaN</td>\n",
       "      <td>NaN</td>\n",
       "      <td>NaN</td>\n",
       "    </tr>\n",
       "    <tr>\n",
       "      <th>CDOM</th>\n",
       "      <td>4846</td>\n",
       "      <td>NaN</td>\n",
       "      <td>NaN</td>\n",
       "      <td>NaN</td>\n",
       "      <td>37.468</td>\n",
       "      <td>69.1366</td>\n",
       "      <td>0</td>\n",
       "      <td>5</td>\n",
       "      <td>10</td>\n",
       "      <td>40</td>\n",
       "      <td>1172</td>\n",
       "    </tr>\n",
       "    <tr>\n",
       "      <th>Fireplaces Total</th>\n",
       "      <td>4861</td>\n",
       "      <td>NaN</td>\n",
       "      <td>NaN</td>\n",
       "      <td>NaN</td>\n",
       "      <td>1.45217</td>\n",
       "      <td>0.732004</td>\n",
       "      <td>0</td>\n",
       "      <td>1</td>\n",
       "      <td>1</td>\n",
       "      <td>2</td>\n",
       "      <td>7</td>\n",
       "    </tr>\n",
       "    <tr>\n",
       "      <th>Lot Square Footage</th>\n",
       "      <td>4930</td>\n",
       "      <td>NaN</td>\n",
       "      <td>NaN</td>\n",
       "      <td>NaN</td>\n",
       "      <td>28038.5</td>\n",
       "      <td>96546.4</td>\n",
       "      <td>0</td>\n",
       "      <td>5936</td>\n",
       "      <td>9000</td>\n",
       "      <td>14186</td>\n",
       "      <td>1.07982e+06</td>\n",
       "    </tr>\n",
       "    <tr>\n",
       "      <th>Parking Covered Total</th>\n",
       "      <td>4462</td>\n",
       "      <td>NaN</td>\n",
       "      <td>NaN</td>\n",
       "      <td>NaN</td>\n",
       "      <td>2.50583</td>\n",
       "      <td>0.729091</td>\n",
       "      <td>0</td>\n",
       "      <td>2</td>\n",
       "      <td>2</td>\n",
       "      <td>3</td>\n",
       "      <td>10</td>\n",
       "    </tr>\n",
       "    <tr>\n",
       "      <th>Square Footage Unfinished</th>\n",
       "      <td>4853</td>\n",
       "      <td>NaN</td>\n",
       "      <td>NaN</td>\n",
       "      <td>NaN</td>\n",
       "      <td>32.3328</td>\n",
       "      <td>297.496</td>\n",
       "      <td>0</td>\n",
       "      <td>0</td>\n",
       "      <td>0</td>\n",
       "      <td>0</td>\n",
       "      <td>9725</td>\n",
       "    </tr>\n",
       "    <tr>\n",
       "      <th>Year Built</th>\n",
       "      <td>4947</td>\n",
       "      <td>NaN</td>\n",
       "      <td>NaN</td>\n",
       "      <td>NaN</td>\n",
       "      <td>1996.58</td>\n",
       "      <td>14.289</td>\n",
       "      <td>1905</td>\n",
       "      <td>1987</td>\n",
       "      <td>1999</td>\n",
       "      <td>2006</td>\n",
       "      <td>2106</td>\n",
       "    </tr>\n",
       "    <tr>\n",
       "      <th>Bank Or Real Estate Owned</th>\n",
       "      <td>4947</td>\n",
       "      <td>2</td>\n",
       "      <td>False</td>\n",
       "      <td>4889</td>\n",
       "      <td>NaN</td>\n",
       "      <td>NaN</td>\n",
       "      <td>NaN</td>\n",
       "      <td>NaN</td>\n",
       "      <td>NaN</td>\n",
       "      <td>NaN</td>\n",
       "      <td>NaN</td>\n",
       "    </tr>\n",
       "    <tr>\n",
       "      <th>New Construction State</th>\n",
       "      <td>958</td>\n",
       "      <td>3</td>\n",
       "      <td>Under Construction</td>\n",
       "      <td>414</td>\n",
       "      <td>NaN</td>\n",
       "      <td>NaN</td>\n",
       "      <td>NaN</td>\n",
       "      <td>NaN</td>\n",
       "      <td>NaN</td>\n",
       "      <td>NaN</td>\n",
       "      <td>NaN</td>\n",
       "    </tr>\n",
       "    <tr>\n",
       "      <th>Occupant Type</th>\n",
       "      <td>4947</td>\n",
       "      <td>4</td>\n",
       "      <td>Owner</td>\n",
       "      <td>2559</td>\n",
       "      <td>NaN</td>\n",
       "      <td>NaN</td>\n",
       "      <td>NaN</td>\n",
       "      <td>NaN</td>\n",
       "      <td>NaN</td>\n",
       "      <td>NaN</td>\n",
       "      <td>NaN</td>\n",
       "    </tr>\n",
       "    <tr>\n",
       "      <th>Original Price</th>\n",
       "      <td>4947</td>\n",
       "      <td>NaN</td>\n",
       "      <td>NaN</td>\n",
       "      <td>NaN</td>\n",
       "      <td>778416</td>\n",
       "      <td>386954</td>\n",
       "      <td>299</td>\n",
       "      <td>568000</td>\n",
       "      <td>732900</td>\n",
       "      <td>900000</td>\n",
       "      <td>7.249e+06</td>\n",
       "    </tr>\n",
       "  </tbody>\n",
       "</table>\n",
       "</div>"
      ],
      "text/plain": [
       "                          count unique                 top  freq     mean  \\\n",
       "List Price                 4947    NaN                 NaN   NaN   771777   \n",
       "Sold Price                 4948    NaN                 NaN   NaN   774550   \n",
       "Year                       4948    NaN                 NaN   NaN  2014.73   \n",
       "List Date                  4948   1360            6/2/2016    24      NaN   \n",
       "Sold Date                  4948   1106           6/28/2013    21      NaN   \n",
       "DOM                        4628    NaN                 NaN   NaN  32.1327   \n",
       "Bedrooms                   4947    NaN                 NaN   NaN  3.78431   \n",
       "Bathrooms                  4947    NaN                 NaN   NaN  2.76834   \n",
       "Sq Foot                    4948    NaN                 NaN   NaN  2877.18   \n",
       "Age                        4947    NaN                 NaN   NaN  1996.58   \n",
       "Lot Size                   4930    NaN                 NaN   NaN  28038.5   \n",
       "Pool                        100      4           Community    62      NaN   \n",
       "Property Type              4948      4         Residential  4462      NaN   \n",
       "Building Condition         3335      8           Very Good  1763      NaN   \n",
       "Bus Line Nearby            2544      2                True  2426      NaN   \n",
       "CDOM                       4846    NaN                 NaN   NaN   37.468   \n",
       "Fireplaces Total           4861    NaN                 NaN   NaN  1.45217   \n",
       "Lot Square Footage         4930    NaN                 NaN   NaN  28038.5   \n",
       "Parking Covered Total      4462    NaN                 NaN   NaN  2.50583   \n",
       "Square Footage Unfinished  4853    NaN                 NaN   NaN  32.3328   \n",
       "Year Built                 4947    NaN                 NaN   NaN  1996.58   \n",
       "Bank Or Real Estate Owned  4947      2               False  4889      NaN   \n",
       "New Construction State      958      3  Under Construction   414      NaN   \n",
       "Occupant Type              4947      4               Owner  2559      NaN   \n",
       "Original Price             4947    NaN                 NaN   NaN   778416   \n",
       "\n",
       "                                std    min     25%     50%     75%  \\\n",
       "List Price                   365102  65000  560000  729000  899950   \n",
       "Sold Price                   354888      1  567000  735950  912079   \n",
       "Year                        1.28376   2013    2014    2015    2016   \n",
       "List Date                       NaN    NaN     NaN     NaN     NaN   \n",
       "Sold Date                       NaN    NaN     NaN     NaN     NaN   \n",
       "DOM                         52.3878      1       5      10      36   \n",
       "Bedrooms                    0.92554      0       3       4       4   \n",
       "Bathrooms                  0.773068      0     2.5     2.5    3.25   \n",
       "Sq Foot                     1056.65      0    2130    2880    3560   \n",
       "Age                          14.289   1905    1987    1999    2006   \n",
       "Lot Size                    96546.4      0    5936    9000   14186   \n",
       "Pool                            NaN    NaN     NaN     NaN     NaN   \n",
       "Property Type                   NaN    NaN     NaN     NaN     NaN   \n",
       "Building Condition              NaN    NaN     NaN     NaN     NaN   \n",
       "Bus Line Nearby                 NaN    NaN     NaN     NaN     NaN   \n",
       "CDOM                        69.1366      0       5      10      40   \n",
       "Fireplaces Total           0.732004      0       1       1       2   \n",
       "Lot Square Footage          96546.4      0    5936    9000   14186   \n",
       "Parking Covered Total      0.729091      0       2       2       3   \n",
       "Square Footage Unfinished   297.496      0       0       0       0   \n",
       "Year Built                   14.289   1905    1987    1999    2006   \n",
       "Bank Or Real Estate Owned       NaN    NaN     NaN     NaN     NaN   \n",
       "New Construction State          NaN    NaN     NaN     NaN     NaN   \n",
       "Occupant Type                   NaN    NaN     NaN     NaN     NaN   \n",
       "Original Price               386954    299  568000  732900  900000   \n",
       "\n",
       "                                   max  \n",
       "List Price                    4.55e+06  \n",
       "Sold Price                    4.81e+06  \n",
       "Year                              2017  \n",
       "List Date                          NaN  \n",
       "Sold Date                          NaN  \n",
       "DOM                                923  \n",
       "Bedrooms                             9  \n",
       "Bathrooms                            7  \n",
       "Sq Foot                          10380  \n",
       "Age                               2106  \n",
       "Lot Size                   1.07982e+06  \n",
       "Pool                               NaN  \n",
       "Property Type                      NaN  \n",
       "Building Condition                 NaN  \n",
       "Bus Line Nearby                    NaN  \n",
       "CDOM                              1172  \n",
       "Fireplaces Total                     7  \n",
       "Lot Square Footage         1.07982e+06  \n",
       "Parking Covered Total               10  \n",
       "Square Footage Unfinished         9725  \n",
       "Year Built                        2106  \n",
       "Bank Or Real Estate Owned          NaN  \n",
       "New Construction State             NaN  \n",
       "Occupant Type                      NaN  \n",
       "Original Price               7.249e+06  "
      ]
     },
     "execution_count": 10,
     "metadata": {},
     "output_type": "execute_result"
    }
   ],
   "source": [
    "df.describe(include='all').T"
   ]
  },
  {
   "cell_type": "code",
   "execution_count": 12,
   "metadata": {},
   "outputs": [
    {
     "name": "stdout",
     "output_type": "stream",
     "text": [
      "<class 'pandas.core.frame.DataFrame'>\n",
      "RangeIndex: 4951 entries, 0 to 4950\n",
      "Data columns (total 25 columns):\n",
      "List Price                   4947 non-null float64\n",
      "Sold Price                   4948 non-null float64\n",
      "Year                         4948 non-null float64\n",
      "List Date                    4948 non-null object\n",
      "Sold Date                    4948 non-null object\n",
      "DOM                          4628 non-null float64\n",
      "Bedrooms                     4947 non-null float64\n",
      "Bathrooms                    4947 non-null float64\n",
      "Sq Foot                      4948 non-null float64\n",
      "Age                          4947 non-null float64\n",
      "Lot Size                     4930 non-null float64\n",
      "Pool                         100 non-null object\n",
      "Property Type                4948 non-null object\n",
      "Building Condition           3335 non-null object\n",
      "Bus Line Nearby              2544 non-null object\n",
      "CDOM                         4846 non-null float64\n",
      "Fireplaces Total             4861 non-null float64\n",
      "Lot Square Footage           4930 non-null float64\n",
      "Parking Covered Total        4462 non-null float64\n",
      "Square Footage Unfinished    4853 non-null float64\n",
      "Year Built                   4947 non-null float64\n",
      "Bank Or Real Estate Owned    4947 non-null object\n",
      "New Construction State       958 non-null object\n",
      "Occupant Type                4947 non-null object\n",
      "Original Price               4947 non-null float64\n",
      "dtypes: float64(16), object(9)\n",
      "memory usage: 967.1+ KB\n"
     ]
    }
   ],
   "source": [
    "df.info()"
   ]
  },
  {
   "cell_type": "code",
   "execution_count": 14,
   "metadata": {},
   "outputs": [
    {
     "data": {
      "text/plain": [
       "(4948, 25)"
      ]
     },
     "execution_count": 14,
     "metadata": {},
     "output_type": "execute_result"
    }
   ],
   "source": [
    "# drop records where Sold Price is null\n",
    "df = df.dropna(subset=['Sold Price'])\n",
    "df.shape"
   ]
  },
  {
   "cell_type": "markdown",
   "metadata": {},
   "source": [
    "### Process data"
   ]
  },
  {
   "cell_type": "code",
   "execution_count": 15,
   "metadata": {
    "collapsed": true
   },
   "outputs": [],
   "source": [
    "# impute Sold price with List price and vice a versa\n",
    "df['Sold Price'] = df['Sold Price'].combine_first(df['List Price'])\n",
    "df['List Price'] = df['List Price'].combine_first(df['Sold Price'])"
   ]
  },
  {
   "cell_type": "code",
   "execution_count": 16,
   "metadata": {
    "collapsed": true
   },
   "outputs": [],
   "source": [
    "# impute DOM with CDOM and vice a versa\n",
    "df['DOM'] = df['DOM'].combine_first(df['CDOM'])\n",
    "df['CDOM'] = df['CDOM'].combine_first(df['DOM'])"
   ]
  },
  {
   "cell_type": "code",
   "execution_count": 14,
   "metadata": {
    "collapsed": true
   },
   "outputs": [],
   "source": [
    "df['Lot Size'] = df['Lot Size'].combine_first(df['Lot Square Footage '])\n",
    "df['Lot Square Footage '] = df['Lot Square Footage '].combine_first(df['Lot Size'])\n"
   ]
  },
  {
   "cell_type": "code",
   "execution_count": 17,
   "metadata": {
    "collapsed": true
   },
   "outputs": [],
   "source": [
    "df['Square Footage Unfinished'] = df['Square Footage Unfinished'].fillna(0)"
   ]
  },
  {
   "cell_type": "code",
   "execution_count": 18,
   "metadata": {
    "collapsed": true
   },
   "outputs": [],
   "source": [
    "df['Fireplaces Total'] = df['Fireplaces Total'].fillna(0)"
   ]
  },
  {
   "cell_type": "code",
   "execution_count": 20,
   "metadata": {
    "collapsed": true
   },
   "outputs": [],
   "source": [
    "df['Fireplaces Total'] = df['Fireplaces Total'].fillna(0)"
   ]
  },
  {
   "cell_type": "markdown",
   "metadata": {},
   "source": [
    "#### check correlation"
   ]
  },
  {
   "cell_type": "code",
   "execution_count": 21,
   "metadata": {},
   "outputs": [
    {
     "data": {
      "text/plain": [
       "(4948, 16)"
      ]
     },
     "execution_count": 21,
     "metadata": {},
     "output_type": "execute_result"
    }
   ],
   "source": [
    "numeric_df = df.select_dtypes(include='number')\n",
    "numeric_df.shape"
   ]
  },
  {
   "cell_type": "code",
   "execution_count": 22,
   "metadata": {
    "collapsed": true
   },
   "outputs": [],
   "source": [
    "corr = numeric_df.corr()\n",
    "corr.to_csv(\"numeric_correlation.csv\")"
   ]
  },
  {
   "cell_type": "code",
   "execution_count": 23,
   "metadata": {},
   "outputs": [
    {
     "data": {
      "text/plain": [
       "<matplotlib.axes._subplots.AxesSubplot at 0x2699618cd30>"
      ]
     },
     "execution_count": 23,
     "metadata": {},
     "output_type": "execute_result"
    },
    {
     "data": {
      "image/png": "[encoded data removed]",
      "text/plain": [
       "<Figure size 432x288 with 2 Axes>"
      ]
     },
     "metadata": {},
     "output_type": "display_data"
    }
   ],
   "source": [
    "corr = numeric_df.corr()\n",
    "sns.heatmap(corr)"
   ]
  },
  {
   "cell_type": "code",
   "execution_count": 24,
   "metadata": {},
   "outputs": [
    {
     "data": {
      "text/plain": [
       "(4948, 22)"
      ]
     },
     "execution_count": 24,
     "metadata": {},
     "output_type": "execute_result"
    }
   ],
   "source": [
    "# drop highly correlated variables\n",
    "highly_corr_vars = ['Original Price', 'Lot Square Footage ', 'CDOM']\n",
    "\n",
    "df = df.drop(highly_corr_vars, axis=1)\n",
    "\n",
    "df.shape"
   ]
  },
  {
   "cell_type": "code",
   "execution_count": 25,
   "metadata": {},
   "outputs": [
    {
     "name": "stdout",
     "output_type": "stream",
     "text": [
      "<class 'pandas.core.frame.DataFrame'>\n",
      "Int64Index: 4948 entries, 0 to 4950\n",
      "Data columns (total 13 columns):\n",
      "List Price                   4948 non-null float64\n",
      "Sold Price                   4948 non-null float64\n",
      "Year                         4948 non-null float64\n",
      "DOM                          4846 non-null float64\n",
      "Bedrooms                     4947 non-null float64\n",
      "Bathrooms                    4947 non-null float64\n",
      "Sq Foot                      4948 non-null float64\n",
      "Age                          4947 non-null float64\n",
      "Lot Size                     4930 non-null float64\n",
      "Fireplaces Total             4948 non-null float64\n",
      "Parking Covered Total        4462 non-null float64\n",
      "Square Footage Unfinished    4948 non-null float64\n",
      "Year Built                   4947 non-null float64\n",
      "dtypes: float64(13)\n",
      "memory usage: 541.2 KB\n"
     ]
    }
   ],
   "source": [
    "df.select_dtypes(include='number').info()"
   ]
  },
  {
   "cell_type": "markdown",
   "metadata": {},
   "source": [
    "#### check categorical data"
   ]
  },
  {
   "cell_type": "code",
   "execution_count": 26,
   "metadata": {},
   "outputs": [
    {
     "data": {
      "text/plain": [
       "(4948, 9)"
      ]
     },
     "execution_count": 26,
     "metadata": {},
     "output_type": "execute_result"
    }
   ],
   "source": [
    "cat_df = df.select_dtypes(exclude='number')\n",
    "cat_df.shape"
   ]
  },
  {
   "cell_type": "code",
   "execution_count": 27,
   "metadata": {},
   "outputs": [
    {
     "data": {
      "text/html": [
       "<div>\n",
       "<style scoped>\n",
       "    .dataframe tbody tr th:only-of-type {\n",
       "        vertical-align: middle;\n",
       "    }\n",
       "\n",
       "    .dataframe tbody tr th {\n",
       "        vertical-align: top;\n",
       "    }\n",
       "\n",
       "    .dataframe thead th {\n",
       "        text-align: right;\n",
       "    }\n",
       "</style>\n",
       "<table border=\"1\" class=\"dataframe\">\n",
       "  <thead>\n",
       "    <tr style=\"text-align: right;\">\n",
       "      <th></th>\n",
       "      <th>List Date</th>\n",
       "      <th>Sold Date</th>\n",
       "      <th>Pool</th>\n",
       "      <th>Property Type</th>\n",
       "      <th>Building Condition</th>\n",
       "      <th>Bus Line Nearby</th>\n",
       "      <th>Bank Or Real Estate Owned</th>\n",
       "      <th>New Construction State</th>\n",
       "      <th>Occupant Type</th>\n",
       "    </tr>\n",
       "  </thead>\n",
       "  <tbody>\n",
       "    <tr>\n",
       "      <th>count</th>\n",
       "      <td>4948</td>\n",
       "      <td>4948</td>\n",
       "      <td>100</td>\n",
       "      <td>4948</td>\n",
       "      <td>3335</td>\n",
       "      <td>2544</td>\n",
       "      <td>4947</td>\n",
       "      <td>958</td>\n",
       "      <td>4947</td>\n",
       "    </tr>\n",
       "    <tr>\n",
       "      <th>unique</th>\n",
       "      <td>1360</td>\n",
       "      <td>1106</td>\n",
       "      <td>4</td>\n",
       "      <td>4</td>\n",
       "      <td>8</td>\n",
       "      <td>2</td>\n",
       "      <td>2</td>\n",
       "      <td>3</td>\n",
       "      <td>4</td>\n",
       "    </tr>\n",
       "    <tr>\n",
       "      <th>top</th>\n",
       "      <td>6/2/2016</td>\n",
       "      <td>6/28/2013</td>\n",
       "      <td>Community</td>\n",
       "      <td>Residential</td>\n",
       "      <td>Very Good</td>\n",
       "      <td>True</td>\n",
       "      <td>False</td>\n",
       "      <td>Under Construction</td>\n",
       "      <td>Owner</td>\n",
       "    </tr>\n",
       "    <tr>\n",
       "      <th>freq</th>\n",
       "      <td>24</td>\n",
       "      <td>21</td>\n",
       "      <td>62</td>\n",
       "      <td>4462</td>\n",
       "      <td>1763</td>\n",
       "      <td>2426</td>\n",
       "      <td>4889</td>\n",
       "      <td>414</td>\n",
       "      <td>2559</td>\n",
       "    </tr>\n",
       "  </tbody>\n",
       "</table>\n",
       "</div>"
      ],
      "text/plain": [
       "       List Date  Sold Date       Pool Property Type Building Condition  \\\n",
       "count       4948       4948        100          4948               3335   \n",
       "unique      1360       1106          4             4                  8   \n",
       "top     6/2/2016  6/28/2013  Community   Residential          Very Good   \n",
       "freq          24         21         62          4462               1763   \n",
       "\n",
       "       Bus Line Nearby Bank Or Real Estate Owned New Construction State  \\\n",
       "count             2544                      4947                    958   \n",
       "unique               2                         2                      3   \n",
       "top               True                     False     Under Construction   \n",
       "freq              2426                      4889                    414   \n",
       "\n",
       "       Occupant Type  \n",
       "count           4947  \n",
       "unique             4  \n",
       "top            Owner  \n",
       "freq            2559  "
      ]
     },
     "execution_count": 27,
     "metadata": {},
     "output_type": "execute_result"
    }
   ],
   "source": [
    "cat_df.describe(include=['O'])"
   ]
  },
  {
   "cell_type": "code",
   "execution_count": 28,
   "metadata": {
    "collapsed": true
   },
   "outputs": [],
   "source": [
    "df['List Date'] = pd.to_datetime(df['List Date'], format='%m/%d/%Y')\n",
    "df['Sold Date'] = pd.to_datetime(df['Sold Date'], format='%m/%d/%Y')"
   ]
  },
  {
   "cell_type": "code",
   "execution_count": 29,
   "metadata": {
    "collapsed": true
   },
   "outputs": [],
   "source": [
    "df['days_to_sold'] = df.apply(lambda row: (row['Sold Date']-row['List Date']).days, axis=1)"
   ]
  },
  {
   "cell_type": "code",
   "execution_count": 27,
   "metadata": {},
   "outputs": [
    {
     "data": {
      "text/plain": [
       "Pool\n",
       "Above Ground     4\n",
       "Community       62\n",
       "In-Ground       28\n",
       "Indoor           6\n",
       "Name: Pool, dtype: int64"
      ]
     },
     "execution_count": 27,
     "metadata": {},
     "output_type": "execute_result"
    }
   ],
   "source": [
    "# impute with None if no pool\n",
    "cat_df.groupby('Pool')['Pool'].count()\n"
   ]
  },
  {
   "cell_type": "code",
   "execution_count": 34,
   "metadata": {},
   "outputs": [
    {
     "data": {
      "text/plain": [
       "4848"
      ]
     },
     "execution_count": 34,
     "metadata": {},
     "output_type": "execute_result"
    }
   ],
   "source": [
    "df['Pool'].isna().sum()"
   ]
  },
  {
   "cell_type": "code",
   "execution_count": 28,
   "metadata": {
    "collapsed": true
   },
   "outputs": [],
   "source": [
    "df['Pool'] = df['Pool'].fillna('No-Pool')\n"
   ]
  },
  {
   "cell_type": "code",
   "execution_count": 29,
   "metadata": {},
   "outputs": [
    {
     "data": {
      "text/plain": [
       "Property Type\n",
       "Condominium                       484\n",
       "Letter of Authorization (LOA)       1\n",
       "Manufactured Homes                  1\n",
       "Residential                      4462\n",
       "Name: Property Type, dtype: int64"
      ]
     },
     "execution_count": 29,
     "metadata": {},
     "output_type": "execute_result"
    }
   ],
   "source": [
    "cat_df.groupby('Property Type')['Property Type'].count()"
   ]
  },
  {
   "cell_type": "code",
   "execution_count": 30,
   "metadata": {},
   "outputs": [
    {
     "data": {
      "text/plain": [
       "Building Condition\n",
       "Average                 79\n",
       "Fair                    29\n",
       "Fixer                   25\n",
       "Good                   842\n",
       "Remodeled              273\n",
       "Restored                 1\n",
       "Under Construction     323\n",
       "Very Good             1763\n",
       "Name: Building Condition, dtype: int64"
      ]
     },
     "execution_count": 30,
     "metadata": {},
     "output_type": "execute_result"
    }
   ],
   "source": [
    "# impute nan with Good\n",
    "cat_df.groupby('Building Condition')['Building Condition'].count()"
   ]
  },
  {
   "cell_type": "code",
   "execution_count": 31,
   "metadata": {
    "collapsed": true
   },
   "outputs": [],
   "source": [
    "df['Building Condition'] = df['Building Condition'].fillna('Good')"
   ]
  },
  {
   "cell_type": "code",
   "execution_count": 32,
   "metadata": {},
   "outputs": [
    {
     "data": {
      "text/plain": [
       "Bus Line Nearby\n",
       "False     118\n",
       "True     2426\n",
       "Name: Bus Line Nearby, dtype: int64"
      ]
     },
     "execution_count": 32,
     "metadata": {},
     "output_type": "execute_result"
    }
   ],
   "source": [
    "# impute nan with False\n",
    "cat_df.groupby('Bus Line Nearby')['Bus Line Nearby'].count()"
   ]
  },
  {
   "cell_type": "code",
   "execution_count": 33,
   "metadata": {
    "collapsed": true
   },
   "outputs": [],
   "source": [
    "df['Bus Line Nearby'] = df['Bus Line Nearby'].fillna(False)"
   ]
  },
  {
   "cell_type": "code",
   "execution_count": 34,
   "metadata": {},
   "outputs": [
    {
     "data": {
      "text/plain": [
       "Bank Or Real Estate Owned\n",
       "False    4889\n",
       "True       58\n",
       "Name: Bank Or Real Estate Owned, dtype: int64"
      ]
     },
     "execution_count": 34,
     "metadata": {},
     "output_type": "execute_result"
    }
   ],
   "source": [
    "cat_df.groupby('Bank Or Real Estate Owned')['Bank Or Real Estate Owned'].count()"
   ]
  },
  {
   "cell_type": "code",
   "execution_count": 35,
   "metadata": {},
   "outputs": [
    {
     "data": {
      "text/plain": [
       "New Construction State\n",
       "Completed             231\n",
       "Presale               313\n",
       "Under Construction    414\n",
       "Name: New Construction State, dtype: int64"
      ]
     },
     "execution_count": 35,
     "metadata": {},
     "output_type": "execute_result"
    }
   ],
   "source": [
    "# if Square Footage Unfinished is 0 then set nulls as Completed else if it is equal to Sq Foot set as presale else under construction\n",
    "cat_df.groupby('New Construction State')['New Construction State'].count()"
   ]
  },
  {
   "cell_type": "code",
   "execution_count": 36,
   "metadata": {},
   "outputs": [
    {
     "data": {
      "text/plain": [
       "(7, 23)"
      ]
     },
     "execution_count": 36,
     "metadata": {},
     "output_type": "execute_result"
    }
   ],
   "source": [
    "df[(df['Sq Foot'] == df['Square Footage Unfinished']) & (df['Sq Foot']!=0)].shape"
   ]
  },
  {
   "cell_type": "code",
   "execution_count": 37,
   "metadata": {
    "collapsed": true
   },
   "outputs": [],
   "source": [
    "def fill_construction_state(row):\n",
    "    if isinstance(row['New Construction State'], float) == True:\n",
    "        if row['Square Footage Unfinished'] == 0:\n",
    "            return 'Completed'\n",
    "        elif row['Square Footage Unfinished'] == row['Sq Foot']:\n",
    "            return 'Presale'\n",
    "        return 'Under Construction'\n",
    "    else:\n",
    "        return row['New Construction State']\n",
    "\n",
    "df['New Construction State'] = df.apply(fill_construction_state, axis=1)"
   ]
  },
  {
   "cell_type": "code",
   "execution_count": 38,
   "metadata": {},
   "outputs": [
    {
     "data": {
      "text/plain": [
       "New Construction State\n",
       "Completed             4050\n",
       "Presale                320\n",
       "Under Construction     578\n",
       "Name: New Construction State, dtype: int64"
      ]
     },
     "execution_count": 38,
     "metadata": {},
     "output_type": "execute_result"
    }
   ],
   "source": [
    "df.groupby('New Construction State')['New Construction State'].count()"
   ]
  },
  {
   "cell_type": "code",
   "execution_count": 39,
   "metadata": {},
   "outputs": [
    {
     "data": {
      "text/plain": [
       "Occupant Type\n",
       "Owner      2559\n",
       "Presale     323\n",
       "Tenant      130\n",
       "Vacant     1935\n",
       "Name: Occupant Type, dtype: int64"
      ]
     },
     "execution_count": 39,
     "metadata": {},
     "output_type": "execute_result"
    }
   ],
   "source": [
    "cat_df.groupby('Occupant Type')['Occupant Type'].count()"
   ]
  },
  {
   "cell_type": "markdown",
   "metadata": {},
   "source": [
    "### Create Dummy Variables and Final Dataset"
   ]
  },
  {
   "cell_type": "code",
   "execution_count": 40,
   "metadata": {},
   "outputs": [
    {
     "data": {
      "text/plain": [
       "(4386, 21)"
      ]
     },
     "execution_count": 40,
     "metadata": {},
     "output_type": "execute_result"
    }
   ],
   "source": [
    "df = df.dropna()\n",
    "df = df.drop(['List Date', 'Sold Date'], axis=1)\n",
    "df.shape"
   ]
  },
  {
   "cell_type": "code",
   "execution_count": 41,
   "metadata": {},
   "outputs": [
    {
     "data": {
      "text/html": [
       "<div>\n",
       "<style scoped>\n",
       "    .dataframe tbody tr th:only-of-type {\n",
       "        vertical-align: middle;\n",
       "    }\n",
       "\n",
       "    .dataframe tbody tr th {\n",
       "        vertical-align: top;\n",
       "    }\n",
       "\n",
       "    .dataframe thead th {\n",
       "        text-align: right;\n",
       "    }\n",
       "</style>\n",
       "<table border=\"1\" class=\"dataframe\">\n",
       "  <thead>\n",
       "    <tr style=\"text-align: right;\">\n",
       "      <th></th>\n",
       "      <th>0</th>\n",
       "      <th>2</th>\n",
       "    </tr>\n",
       "  </thead>\n",
       "  <tbody>\n",
       "    <tr>\n",
       "      <th>List Price</th>\n",
       "      <td>4.499e+06</td>\n",
       "      <td>2.895e+06</td>\n",
       "    </tr>\n",
       "    <tr>\n",
       "      <th>Sold Price</th>\n",
       "      <td>4.036e+06</td>\n",
       "      <td>2.7725e+06</td>\n",
       "    </tr>\n",
       "    <tr>\n",
       "      <th>Year</th>\n",
       "      <td>2013</td>\n",
       "      <td>2013</td>\n",
       "    </tr>\n",
       "    <tr>\n",
       "      <th>DOM</th>\n",
       "      <td>117</td>\n",
       "      <td>25</td>\n",
       "    </tr>\n",
       "    <tr>\n",
       "      <th>Bedrooms</th>\n",
       "      <td>4</td>\n",
       "      <td>4</td>\n",
       "    </tr>\n",
       "    <tr>\n",
       "      <th>Bathrooms</th>\n",
       "      <td>5.75</td>\n",
       "      <td>4.25</td>\n",
       "    </tr>\n",
       "    <tr>\n",
       "      <th>Sq Foot</th>\n",
       "      <td>7230</td>\n",
       "      <td>4710</td>\n",
       "    </tr>\n",
       "    <tr>\n",
       "      <th>Age</th>\n",
       "      <td>2000</td>\n",
       "      <td>2007</td>\n",
       "    </tr>\n",
       "    <tr>\n",
       "      <th>Lot Size</th>\n",
       "      <td>978070</td>\n",
       "      <td>17176</td>\n",
       "    </tr>\n",
       "    <tr>\n",
       "      <th>Pool</th>\n",
       "      <td>No-Pool</td>\n",
       "      <td>No-Pool</td>\n",
       "    </tr>\n",
       "    <tr>\n",
       "      <th>Property Type</th>\n",
       "      <td>Residential</td>\n",
       "      <td>Residential</td>\n",
       "    </tr>\n",
       "    <tr>\n",
       "      <th>Building Condition</th>\n",
       "      <td>Very Good</td>\n",
       "      <td>Very Good</td>\n",
       "    </tr>\n",
       "    <tr>\n",
       "      <th>Bus Line Nearby</th>\n",
       "      <td>True</td>\n",
       "      <td>False</td>\n",
       "    </tr>\n",
       "    <tr>\n",
       "      <th>Fireplaces Total</th>\n",
       "      <td>1</td>\n",
       "      <td>2</td>\n",
       "    </tr>\n",
       "    <tr>\n",
       "      <th>Parking Covered Total</th>\n",
       "      <td>10</td>\n",
       "      <td>4</td>\n",
       "    </tr>\n",
       "    <tr>\n",
       "      <th>Square Footage Unfinished</th>\n",
       "      <td>1730</td>\n",
       "      <td>90</td>\n",
       "    </tr>\n",
       "    <tr>\n",
       "      <th>Year Built</th>\n",
       "      <td>2000</td>\n",
       "      <td>2007</td>\n",
       "    </tr>\n",
       "    <tr>\n",
       "      <th>Bank Or Real Estate Owned</th>\n",
       "      <td>False</td>\n",
       "      <td>False</td>\n",
       "    </tr>\n",
       "    <tr>\n",
       "      <th>New Construction State</th>\n",
       "      <td>Under Construction</td>\n",
       "      <td>Under Construction</td>\n",
       "    </tr>\n",
       "    <tr>\n",
       "      <th>Occupant Type</th>\n",
       "      <td>Tenant</td>\n",
       "      <td>Owner</td>\n",
       "    </tr>\n",
       "    <tr>\n",
       "      <th>days_to_sold</th>\n",
       "      <td>142</td>\n",
       "      <td>89</td>\n",
       "    </tr>\n",
       "  </tbody>\n",
       "</table>\n",
       "</div>"
      ],
      "text/plain": [
       "                                            0                   2\n",
       "List Price                          4.499e+06           2.895e+06\n",
       "Sold Price                          4.036e+06          2.7725e+06\n",
       "Year                                     2013                2013\n",
       "DOM                                       117                  25\n",
       "Bedrooms                                    4                   4\n",
       "Bathrooms                                5.75                4.25\n",
       "Sq Foot                                  7230                4710\n",
       "Age                                      2000                2007\n",
       "Lot Size                               978070               17176\n",
       "Pool                                  No-Pool             No-Pool\n",
       "Property Type                     Residential         Residential\n",
       "Building Condition                  Very Good           Very Good\n",
       "Bus Line Nearby                          True               False\n",
       "Fireplaces Total                            1                   2\n",
       "Parking Covered Total                      10                   4\n",
       "Square Footage Unfinished                1730                  90\n",
       "Year Built                               2000                2007\n",
       "Bank Or Real Estate Owned               False               False\n",
       "New Construction State     Under Construction  Under Construction\n",
       "Occupant Type                          Tenant               Owner\n",
       "days_to_sold                              142                  89"
      ]
     },
     "execution_count": 41,
     "metadata": {},
     "output_type": "execute_result"
    }
   ],
   "source": [
    "df.head(2).T"
   ]
  },
  {
   "cell_type": "markdown",
   "metadata": {},
   "source": [
    "Get dummy variables"
   ]
  },
  {
   "cell_type": "code",
   "execution_count": 42,
   "metadata": {},
   "outputs": [
    {
     "data": {
      "text/plain": [
       "(4386, 7)"
      ]
     },
     "execution_count": 42,
     "metadata": {},
     "output_type": "execute_result"
    }
   ],
   "source": [
    "cat_df = df.select_dtypes(exclude='number')\n",
    "cat_df.shape"
   ]
  },
  {
   "cell_type": "code",
   "execution_count": 43,
   "metadata": {},
   "outputs": [
    {
     "data": {
      "text/plain": [
       "(4386, 24)"
      ]
     },
     "execution_count": 43,
     "metadata": {},
     "output_type": "execute_result"
    }
   ],
   "source": [
    "cat_dummies = pd.get_dummies(cat_df)\n",
    "cat_dummies.shape"
   ]
  },
  {
   "cell_type": "code",
   "execution_count": 44,
   "metadata": {},
   "outputs": [
    {
     "data": {
      "text/html": [
       "<div>\n",
       "<style scoped>\n",
       "    .dataframe tbody tr th:only-of-type {\n",
       "        vertical-align: middle;\n",
       "    }\n",
       "\n",
       "    .dataframe tbody tr th {\n",
       "        vertical-align: top;\n",
       "    }\n",
       "\n",
       "    .dataframe thead th {\n",
       "        text-align: right;\n",
       "    }\n",
       "</style>\n",
       "<table border=\"1\" class=\"dataframe\">\n",
       "  <thead>\n",
       "    <tr style=\"text-align: right;\">\n",
       "      <th></th>\n",
       "      <th>Bus Line Nearby</th>\n",
       "      <th>Pool_Above Ground</th>\n",
       "      <th>Pool_Community</th>\n",
       "      <th>Pool_In-Ground</th>\n",
       "      <th>Pool_Indoor</th>\n",
       "      <th>Pool_No-Pool</th>\n",
       "      <th>Property Type_Residential</th>\n",
       "      <th>Building Condition_Average</th>\n",
       "      <th>Building Condition_Fair</th>\n",
       "      <th>Building Condition_Fixer</th>\n",
       "      <th>...</th>\n",
       "      <th>Building Condition_Very Good</th>\n",
       "      <th>Bank Or Real Estate Owned_False</th>\n",
       "      <th>Bank Or Real Estate Owned_True</th>\n",
       "      <th>New Construction State_Completed</th>\n",
       "      <th>New Construction State_Presale</th>\n",
       "      <th>New Construction State_Under Construction</th>\n",
       "      <th>Occupant Type_Owner</th>\n",
       "      <th>Occupant Type_Presale</th>\n",
       "      <th>Occupant Type_Tenant</th>\n",
       "      <th>Occupant Type_Vacant</th>\n",
       "    </tr>\n",
       "  </thead>\n",
       "  <tbody>\n",
       "    <tr>\n",
       "      <th>0</th>\n",
       "      <td>True</td>\n",
       "      <td>0</td>\n",
       "      <td>0</td>\n",
       "      <td>0</td>\n",
       "      <td>0</td>\n",
       "      <td>1</td>\n",
       "      <td>1</td>\n",
       "      <td>0</td>\n",
       "      <td>0</td>\n",
       "      <td>0</td>\n",
       "      <td>...</td>\n",
       "      <td>1</td>\n",
       "      <td>1</td>\n",
       "      <td>0</td>\n",
       "      <td>0</td>\n",
       "      <td>0</td>\n",
       "      <td>1</td>\n",
       "      <td>0</td>\n",
       "      <td>0</td>\n",
       "      <td>1</td>\n",
       "      <td>0</td>\n",
       "    </tr>\n",
       "    <tr>\n",
       "      <th>2</th>\n",
       "      <td>False</td>\n",
       "      <td>0</td>\n",
       "      <td>0</td>\n",
       "      <td>0</td>\n",
       "      <td>0</td>\n",
       "      <td>1</td>\n",
       "      <td>1</td>\n",
       "      <td>0</td>\n",
       "      <td>0</td>\n",
       "      <td>0</td>\n",
       "      <td>...</td>\n",
       "      <td>1</td>\n",
       "      <td>1</td>\n",
       "      <td>0</td>\n",
       "      <td>0</td>\n",
       "      <td>0</td>\n",
       "      <td>1</td>\n",
       "      <td>1</td>\n",
       "      <td>0</td>\n",
       "      <td>0</td>\n",
       "      <td>0</td>\n",
       "    </tr>\n",
       "  </tbody>\n",
       "</table>\n",
       "<p>2 rows × 24 columns</p>\n",
       "</div>"
      ],
      "text/plain": [
       "   Bus Line Nearby  Pool_Above Ground  Pool_Community  Pool_In-Ground  \\\n",
       "0             True                  0               0               0   \n",
       "2            False                  0               0               0   \n",
       "\n",
       "   Pool_Indoor  Pool_No-Pool  Property Type_Residential  \\\n",
       "0            0             1                          1   \n",
       "2            0             1                          1   \n",
       "\n",
       "   Building Condition_Average  Building Condition_Fair  \\\n",
       "0                           0                        0   \n",
       "2                           0                        0   \n",
       "\n",
       "   Building Condition_Fixer          ...           \\\n",
       "0                         0          ...            \n",
       "2                         0          ...            \n",
       "\n",
       "   Building Condition_Very Good  Bank Or Real Estate Owned_False  \\\n",
       "0                             1                                1   \n",
       "2                             1                                1   \n",
       "\n",
       "   Bank Or Real Estate Owned_True  New Construction State_Completed  \\\n",
       "0                               0                                 0   \n",
       "2                               0                                 0   \n",
       "\n",
       "   New Construction State_Presale  New Construction State_Under Construction  \\\n",
       "0                               0                                          1   \n",
       "2                               0                                          1   \n",
       "\n",
       "   Occupant Type_Owner  Occupant Type_Presale  Occupant Type_Tenant  \\\n",
       "0                    0                      0                     1   \n",
       "2                    1                      0                     0   \n",
       "\n",
       "   Occupant Type_Vacant  \n",
       "0                     0  \n",
       "2                     0  \n",
       "\n",
       "[2 rows x 24 columns]"
      ]
     },
     "execution_count": 44,
     "metadata": {},
     "output_type": "execute_result"
    }
   ],
   "source": [
    "cat_dummies.head(2)"
   ]
  },
  {
   "cell_type": "markdown",
   "metadata": {},
   "source": [
    "Get numeric data"
   ]
  },
  {
   "cell_type": "code",
   "execution_count": 45,
   "metadata": {},
   "outputs": [
    {
     "data": {
      "text/plain": [
       "(4386, 14)"
      ]
     },
     "execution_count": 45,
     "metadata": {},
     "output_type": "execute_result"
    }
   ],
   "source": [
    "numeric_df = df.select_dtypes(include='number')\n",
    "numeric_df.shape"
   ]
  },
  {
   "cell_type": "code",
   "execution_count": 46,
   "metadata": {
    "scrolled": true
   },
   "outputs": [
    {
     "data": {
      "text/html": [
       "<div>\n",
       "<style scoped>\n",
       "    .dataframe tbody tr th:only-of-type {\n",
       "        vertical-align: middle;\n",
       "    }\n",
       "\n",
       "    .dataframe tbody tr th {\n",
       "        vertical-align: top;\n",
       "    }\n",
       "\n",
       "    .dataframe thead th {\n",
       "        text-align: right;\n",
       "    }\n",
       "</style>\n",
       "<table border=\"1\" class=\"dataframe\">\n",
       "  <thead>\n",
       "    <tr style=\"text-align: right;\">\n",
       "      <th></th>\n",
       "      <th>List Price</th>\n",
       "      <th>Sold Price</th>\n",
       "      <th>Year</th>\n",
       "      <th>DOM</th>\n",
       "      <th>Bedrooms</th>\n",
       "      <th>Bathrooms</th>\n",
       "      <th>Sq Foot</th>\n",
       "      <th>Age</th>\n",
       "      <th>Lot Size</th>\n",
       "      <th>Fireplaces Total</th>\n",
       "      <th>...</th>\n",
       "      <th>Building Condition_Very Good</th>\n",
       "      <th>Bank Or Real Estate Owned_False</th>\n",
       "      <th>Bank Or Real Estate Owned_True</th>\n",
       "      <th>New Construction State_Completed</th>\n",
       "      <th>New Construction State_Presale</th>\n",
       "      <th>New Construction State_Under Construction</th>\n",
       "      <th>Occupant Type_Owner</th>\n",
       "      <th>Occupant Type_Presale</th>\n",
       "      <th>Occupant Type_Tenant</th>\n",
       "      <th>Occupant Type_Vacant</th>\n",
       "    </tr>\n",
       "  </thead>\n",
       "  <tbody>\n",
       "    <tr>\n",
       "      <th>0</th>\n",
       "      <td>4499000.0</td>\n",
       "      <td>4036000.0</td>\n",
       "      <td>2013.0</td>\n",
       "      <td>117.0</td>\n",
       "      <td>4.0</td>\n",
       "      <td>5.75</td>\n",
       "      <td>7230.0</td>\n",
       "      <td>2000.0</td>\n",
       "      <td>978070.0</td>\n",
       "      <td>1.0</td>\n",
       "      <td>...</td>\n",
       "      <td>1</td>\n",
       "      <td>1</td>\n",
       "      <td>0</td>\n",
       "      <td>0</td>\n",
       "      <td>0</td>\n",
       "      <td>1</td>\n",
       "      <td>0</td>\n",
       "      <td>0</td>\n",
       "      <td>1</td>\n",
       "      <td>0</td>\n",
       "    </tr>\n",
       "    <tr>\n",
       "      <th>2</th>\n",
       "      <td>2895000.0</td>\n",
       "      <td>2772500.0</td>\n",
       "      <td>2013.0</td>\n",
       "      <td>25.0</td>\n",
       "      <td>4.0</td>\n",
       "      <td>4.25</td>\n",
       "      <td>4710.0</td>\n",
       "      <td>2007.0</td>\n",
       "      <td>17176.0</td>\n",
       "      <td>2.0</td>\n",
       "      <td>...</td>\n",
       "      <td>1</td>\n",
       "      <td>1</td>\n",
       "      <td>0</td>\n",
       "      <td>0</td>\n",
       "      <td>0</td>\n",
       "      <td>1</td>\n",
       "      <td>1</td>\n",
       "      <td>0</td>\n",
       "      <td>0</td>\n",
       "      <td>0</td>\n",
       "    </tr>\n",
       "  </tbody>\n",
       "</table>\n",
       "<p>2 rows × 38 columns</p>\n",
       "</div>"
      ],
      "text/plain": [
       "   List Price  Sold Price    Year    DOM  Bedrooms  Bathrooms  Sq Foot  \\\n",
       "0   4499000.0   4036000.0  2013.0  117.0       4.0       5.75   7230.0   \n",
       "2   2895000.0   2772500.0  2013.0   25.0       4.0       4.25   4710.0   \n",
       "\n",
       "      Age  Lot Size  Fireplaces Total          ...           \\\n",
       "0  2000.0  978070.0               1.0          ...            \n",
       "2  2007.0   17176.0               2.0          ...            \n",
       "\n",
       "   Building Condition_Very Good  Bank Or Real Estate Owned_False  \\\n",
       "0                             1                                1   \n",
       "2                             1                                1   \n",
       "\n",
       "   Bank Or Real Estate Owned_True  New Construction State_Completed  \\\n",
       "0                               0                                 0   \n",
       "2                               0                                 0   \n",
       "\n",
       "   New Construction State_Presale  New Construction State_Under Construction  \\\n",
       "0                               0                                          1   \n",
       "2                               0                                          1   \n",
       "\n",
       "   Occupant Type_Owner  Occupant Type_Presale  Occupant Type_Tenant  \\\n",
       "0                    0                      0                     1   \n",
       "2                    1                      0                     0   \n",
       "\n",
       "   Occupant Type_Vacant  \n",
       "0                     0  \n",
       "2                     0  \n",
       "\n",
       "[2 rows x 38 columns]"
      ]
     },
     "execution_count": 46,
     "metadata": {},
     "output_type": "execute_result"
    }
   ],
   "source": [
    "# final dataset\n",
    "final_df = pd.concat([numeric_df, cat_dummies], axis=1)\n",
    "final_df.head(2)"
   ]
  },
  {
   "cell_type": "code",
   "execution_count": 47,
   "metadata": {},
   "outputs": [
    {
     "data": {
      "text/plain": [
       "(4386, 38)"
      ]
     },
     "execution_count": 47,
     "metadata": {},
     "output_type": "execute_result"
    }
   ],
   "source": [
    "final_df.shape"
   ]
  },
  {
   "cell_type": "code",
   "execution_count": 48,
   "metadata": {},
   "outputs": [
    {
     "name": "stdout",
     "output_type": "stream",
     "text": [
      "<class 'pandas.core.frame.DataFrame'>\n",
      "Int64Index: 4386 entries, 0 to 4950\n",
      "Data columns (total 38 columns):\n",
      "List Price                                   4386 non-null float64\n",
      "Sold Price                                   4386 non-null float64\n",
      "Year                                         4386 non-null float64\n",
      "DOM                                          4386 non-null float64\n",
      "Bedrooms                                     4386 non-null float64\n",
      "Bathrooms                                    4386 non-null float64\n",
      "Sq Foot                                      4386 non-null float64\n",
      "Age                                          4386 non-null float64\n",
      "Lot Size                                     4386 non-null float64\n",
      "Fireplaces Total                             4386 non-null float64\n",
      "Parking Covered Total                        4386 non-null float64\n",
      "Square Footage Unfinished                    4386 non-null float64\n",
      "Year Built                                   4386 non-null float64\n",
      "days_to_sold                                 4386 non-null int64\n",
      "Bus Line Nearby                              4386 non-null bool\n",
      "Pool_Above Ground                            4386 non-null uint8\n",
      "Pool_Community                               4386 non-null uint8\n",
      "Pool_In-Ground                               4386 non-null uint8\n",
      "Pool_Indoor                                  4386 non-null uint8\n",
      "Pool_No-Pool                                 4386 non-null uint8\n",
      "Property Type_Residential                    4386 non-null uint8\n",
      "Building Condition_Average                   4386 non-null uint8\n",
      "Building Condition_Fair                      4386 non-null uint8\n",
      "Building Condition_Fixer                     4386 non-null uint8\n",
      "Building Condition_Good                      4386 non-null uint8\n",
      "Building Condition_Remodeled                 4386 non-null uint8\n",
      "Building Condition_Restored                  4386 non-null uint8\n",
      "Building Condition_Under Construction        4386 non-null uint8\n",
      "Building Condition_Very Good                 4386 non-null uint8\n",
      "Bank Or Real Estate Owned_False              4386 non-null uint8\n",
      "Bank Or Real Estate Owned_True               4386 non-null uint8\n",
      "New Construction State_Completed             4386 non-null uint8\n",
      "New Construction State_Presale               4386 non-null uint8\n",
      "New Construction State_Under Construction    4386 non-null uint8\n",
      "Occupant Type_Owner                          4386 non-null uint8\n",
      "Occupant Type_Presale                        4386 non-null uint8\n",
      "Occupant Type_Tenant                         4386 non-null uint8\n",
      "Occupant Type_Vacant                         4386 non-null uint8\n",
      "dtypes: bool(1), float64(13), int64(1), uint8(23)\n",
      "memory usage: 616.8 KB\n"
     ]
    }
   ],
   "source": [
    "final_df.info()"
   ]
  },
  {
   "cell_type": "code",
   "execution_count": 49,
   "metadata": {
    "collapsed": true
   },
   "outputs": [],
   "source": [
    "X = final_df.drop('Sold Price', axis=1)\n",
    "y = final_df['Sold Price']"
   ]
  },
  {
   "cell_type": "markdown",
   "metadata": {},
   "source": [
    "### Create train test data"
   ]
  },
  {
   "cell_type": "code",
   "execution_count": 50,
   "metadata": {
    "collapsed": true
   },
   "outputs": [],
   "source": [
    "X_train, X_test, y_train, y_test = train_test_split(X, y, test_size=0.3)"
   ]
  },
  {
   "cell_type": "code",
   "execution_count": 51,
   "metadata": {},
   "outputs": [
    {
     "name": "stdout",
     "output_type": "stream",
     "text": [
      "((3070, 37), (3070L,))\n"
     ]
    }
   ],
   "source": [
    "print(X_train.shape, y_train.shape)"
   ]
  },
  {
   "cell_type": "markdown",
   "metadata": {},
   "source": [
    "### Train model"
   ]
  },
  {
   "cell_type": "code",
   "execution_count": 52,
   "metadata": {},
   "outputs": [
    {
     "name": "stdout",
     "output_type": "stream",
     "text": [
      "('Train accuracy: ', 0.9970071569977893)\n",
      "('Test accuracy: ', 0.9884692750078794)\n"
     ]
    }
   ],
   "source": [
    "model_dt = RandomForestRegressor(n_estimators=1000).fit(X_train, y_train)\n",
    "print(\"Train accuracy: \", model_dt.score(X_train, y_train))\n",
    "print(\"Test accuracy: \", model_dt.score(X_test, y_test))"
   ]
  },
  {
   "cell_type": "markdown",
   "metadata": {},
   "source": [
    "### Test dataset"
   ]
  },
  {
   "cell_type": "code",
   "execution_count": 53,
   "metadata": {},
   "outputs": [
    {
     "data": {
      "text/html": [
       "<div>\n",
       "<style scoped>\n",
       "    .dataframe tbody tr th:only-of-type {\n",
       "        vertical-align: middle;\n",
       "    }\n",
       "\n",
       "    .dataframe tbody tr th {\n",
       "        vertical-align: top;\n",
       "    }\n",
       "\n",
       "    .dataframe thead th {\n",
       "        text-align: right;\n",
       "    }\n",
       "</style>\n",
       "<table border=\"1\" class=\"dataframe\">\n",
       "  <thead>\n",
       "    <tr style=\"text-align: right;\">\n",
       "      <th></th>\n",
       "      <th>ML Number</th>\n",
       "      <th>Status</th>\n",
       "      <th>List Price</th>\n",
       "      <th>Sold Price</th>\n",
       "      <th>Year</th>\n",
       "      <th>List Date</th>\n",
       "      <th>Sold Date</th>\n",
       "      <th>DOM</th>\n",
       "      <th>Address</th>\n",
       "      <th>City Name</th>\n",
       "      <th>...</th>\n",
       "      <th>Selling Office Name</th>\n",
       "      <th>Selling Office Phone</th>\n",
       "      <th>Senior Exemption</th>\n",
       "      <th>Sewer Company</th>\n",
       "      <th>Sewer Type</th>\n",
       "      <th>Show Addressto Public</th>\n",
       "      <th>Show Map Link</th>\n",
       "      <th>Site Features</th>\n",
       "      <th>Community</th>\n",
       "      <th>Sale Type</th>\n",
       "    </tr>\n",
       "  </thead>\n",
       "  <tbody>\n",
       "    <tr>\n",
       "      <th>0</th>\n",
       "      <td>1119129</td>\n",
       "      <td>Sold</td>\n",
       "      <td>600000</td>\n",
       "      <td>637500</td>\n",
       "      <td>2017</td>\n",
       "      <td>2017-05-05</td>\n",
       "      <td>2017-06-09</td>\n",
       "      <td>5</td>\n",
       "      <td>1346 222 Place NE</td>\n",
       "      <td>Sammamish</td>\n",
       "      <td>...</td>\n",
       "      <td>Coldwell Banker Bain</td>\n",
       "      <td>(425) 771-6444</td>\n",
       "      <td>False</td>\n",
       "      <td>NE Sammamish Sewer</td>\n",
       "      <td>Sewer Connected</td>\n",
       "      <td>True</td>\n",
       "      <td>True</td>\n",
       "      <td>Deck, Gas Available, High Speed Internet</td>\n",
       "      <td>Sammamish</td>\n",
       "      <td>MLS</td>\n",
       "    </tr>\n",
       "    <tr>\n",
       "      <th>1</th>\n",
       "      <td>1113595</td>\n",
       "      <td>Sold</td>\n",
       "      <td>578000</td>\n",
       "      <td>627000</td>\n",
       "      <td>2017</td>\n",
       "      <td>2017-04-27</td>\n",
       "      <td>2017-06-08</td>\n",
       "      <td>12</td>\n",
       "      <td>540 227th Ct NE</td>\n",
       "      <td>Sammamish</td>\n",
       "      <td>...</td>\n",
       "      <td>The Cascade Team</td>\n",
       "      <td>(425) 395-4399</td>\n",
       "      <td>False</td>\n",
       "      <td>NaN</td>\n",
       "      <td>NaN</td>\n",
       "      <td>True</td>\n",
       "      <td>True</td>\n",
       "      <td>NaN</td>\n",
       "      <td>Sammamish</td>\n",
       "      <td>MLS</td>\n",
       "    </tr>\n",
       "  </tbody>\n",
       "</table>\n",
       "<p>2 rows × 109 columns</p>\n",
       "</div>"
      ],
      "text/plain": [
       "   ML Number Status  List Price  Sold Price  Year  List Date  Sold Date  DOM  \\\n",
       "0    1119129   Sold      600000      637500  2017 2017-05-05 2017-06-09    5   \n",
       "1    1113595   Sold      578000      627000  2017 2017-04-27 2017-06-08   12   \n",
       "\n",
       "             Address  City Name    ...       Selling Office Name  \\\n",
       "0  1346 222 Place NE  Sammamish    ...      Coldwell Banker Bain   \n",
       "1    540 227th Ct NE  Sammamish    ...          The Cascade Team   \n",
       "\n",
       "   Selling Office Phone Senior Exemption       Sewer Company       Sewer Type  \\\n",
       "0        (425) 771-6444            False  NE Sammamish Sewer  Sewer Connected   \n",
       "1        (425) 395-4399            False                 NaN              NaN   \n",
       "\n",
       "   Show Addressto Public  Show Map Link  \\\n",
       "0                   True           True   \n",
       "1                   True           True   \n",
       "\n",
       "                              Site Features  Community Sale Type   \n",
       "0  Deck, Gas Available, High Speed Internet  Sammamish        MLS  \n",
       "1                                       NaN  Sammamish        MLS  \n",
       "\n",
       "[2 rows x 109 columns]"
      ]
     },
     "execution_count": 53,
     "metadata": {},
     "output_type": "execute_result"
    }
   ],
   "source": [
    "test_df = pd.read_excel('Sammamish-Test.xlsx')\n",
    "test_df.head(2)"
   ]
  },
  {
   "cell_type": "code",
   "execution_count": 54,
   "metadata": {},
   "outputs": [
    {
     "data": {
      "text/plain": [
       "(100, 25)"
      ]
     },
     "execution_count": 54,
     "metadata": {},
     "output_type": "execute_result"
    }
   ],
   "source": [
    "test_df = test_df.drop(drop_cols, axis=1)\n",
    "test_df.shape"
   ]
  },
  {
   "cell_type": "code",
   "execution_count": 55,
   "metadata": {
    "collapsed": true
   },
   "outputs": [],
   "source": [
    "# impute Sold price with List price and vice a versa\n",
    "test_df['Sold Price'] = test_df['Sold Price'].combine_first(test_df['List Price'])\n",
    "test_df['List Price'] = test_df['List Price'].combine_first(test_df['Sold Price'])\n",
    "\n",
    "# impute DOM with CDOM and vice a versa\n",
    "test_df['DOM'] = test_df['DOM'].combine_first(test_df['CDOM'])\n",
    "test_df['CDOM'] = test_df['CDOM'].combine_first(test_df['DOM'])\n",
    "\n",
    "test_df['Lot Size'] = test_df['Lot Size'].combine_first(test_df['Lot Square Footage '])\n",
    "test_df['Lot Square Footage '] = test_df['Lot Square Footage '].combine_first(test_df['Lot Size'])\n",
    "\n",
    "test_df['Square Footage Unfinished'] = test_df['Square Footage Unfinished'].fillna(0)\n",
    "\n",
    "test_df['Fireplaces Total'] = test_df['Fireplaces Total'].fillna(0)\n",
    "\n",
    "test_df['Fireplaces Total'] = test_df['Fireplaces Total'].fillna(0)"
   ]
  },
  {
   "cell_type": "code",
   "execution_count": 56,
   "metadata": {},
   "outputs": [
    {
     "data": {
      "text/plain": [
       "(100, 22)"
      ]
     },
     "execution_count": 56,
     "metadata": {},
     "output_type": "execute_result"
    }
   ],
   "source": [
    "test_df = test_df.drop(highly_corr_vars, axis=1)\n",
    "test_df.shape"
   ]
  },
  {
   "cell_type": "code",
   "execution_count": 57,
   "metadata": {},
   "outputs": [
    {
     "name": "stdout",
     "output_type": "stream",
     "text": [
      "<class 'pandas.core.frame.DataFrame'>\n",
      "RangeIndex: 100 entries, 0 to 99\n",
      "Data columns (total 22 columns):\n",
      "List Price                   100 non-null int64\n",
      "Sold Price                   100 non-null int64\n",
      "Year                         100 non-null int64\n",
      "List Date                    100 non-null datetime64[ns]\n",
      "Sold Date                    100 non-null datetime64[ns]\n",
      "DOM                          100 non-null int64\n",
      "Bedrooms                     100 non-null int64\n",
      "Bathrooms                    100 non-null float64\n",
      "Sq Foot                      100 non-null int64\n",
      "Age                          100 non-null int64\n",
      "Lot Size                     97 non-null float64\n",
      "Pool                         0 non-null float64\n",
      "Property Type                100 non-null object\n",
      "Building Condition           21 non-null object\n",
      "Bus Line Nearby              56 non-null float64\n",
      "Fireplaces Total             100 non-null int64\n",
      "Parking Covered Total        30 non-null float64\n",
      "Square Footage Unfinished    100 non-null int64\n",
      "Year Built                   100 non-null int64\n",
      "Bank Or Real Estate Owned    100 non-null bool\n",
      "New Construction State       0 non-null float64\n",
      "Occupant Type                100 non-null object\n",
      "dtypes: bool(1), datetime64[ns](2), float64(6), int64(10), object(3)\n",
      "memory usage: 16.6+ KB\n"
     ]
    }
   ],
   "source": [
    "test_df.info()"
   ]
  },
  {
   "cell_type": "code",
   "execution_count": 58,
   "metadata": {
    "collapsed": true
   },
   "outputs": [],
   "source": [
    "test_df['List Date'] = pd.to_datetime(test_df['List Date'], format='%m/%d/%Y')\n",
    "test_df['Sold Date'] = pd.to_datetime(test_df['Sold Date'], format='%m/%d/%Y')\n",
    "\n",
    "test_df['days_to_sold'] = test_df.apply(lambda row: (row['Sold Date']-row['List Date']).days, axis=1)\n",
    "\n",
    "test_df['Pool'] = test_df['Pool'].fillna('No-Pool')\n",
    "\n",
    "test_df['Building Condition'] = test_df['Building Condition'].fillna('Good')\n",
    "\n",
    "test_df['Bus Line Nearby'] = test_df['Bus Line Nearby'].fillna(False)\n",
    "\n",
    "test_df['New Construction State'] = test_df.apply(fill_construction_state, axis=1)"
   ]
  },
  {
   "cell_type": "code",
   "execution_count": 59,
   "metadata": {
    "collapsed": true
   },
   "outputs": [],
   "source": [
    "test_df = test_df.drop(['List Date', 'Sold Date'], axis=1)"
   ]
  },
  {
   "cell_type": "code",
   "execution_count": 60,
   "metadata": {
    "collapsed": true
   },
   "outputs": [],
   "source": [
    "test_df = test_df[df.columns]"
   ]
  },
  {
   "cell_type": "markdown",
   "metadata": {},
   "source": [
    "impute Lot size"
   ]
  },
  {
   "cell_type": "code",
   "execution_count": 61,
   "metadata": {
    "collapsed": true
   },
   "outputs": [],
   "source": [
    "# get average price per lot size\n",
    "avg_price_per_lot_size = sum(final_df['List Price'])/sum(final_df['Lot Size'])\n",
    "\n",
    "# impute lot size as list price / avg_price_per_lot_size\n",
    "test_df['Lot Size'] = test_df['Lot Size'].fillna(test_df['List Price']/avg_price_per_lot_size)"
   ]
  },
  {
   "cell_type": "markdown",
   "metadata": {},
   "source": [
    "impute parking Covered Total"
   ]
  },
  {
   "cell_type": "code",
   "execution_count": 62,
   "metadata": {
    "collapsed": true
   },
   "outputs": [],
   "source": [
    "test_df['Parking Covered Total'] = test_df['Parking Covered Total'].fillna(test_df['Parking Covered Total'].mean())"
   ]
  },
  {
   "cell_type": "markdown",
   "metadata": {},
   "source": [
    "#### Create dummies"
   ]
  },
  {
   "cell_type": "code",
   "execution_count": 63,
   "metadata": {},
   "outputs": [
    {
     "data": {
      "text/plain": [
       "(100, 14)"
      ]
     },
     "execution_count": 63,
     "metadata": {},
     "output_type": "execute_result"
    }
   ],
   "source": [
    "test_numeric_df = test_df.select_dtypes(include='number')\n",
    "test_numeric_df.shape"
   ]
  },
  {
   "cell_type": "code",
   "execution_count": 64,
   "metadata": {},
   "outputs": [
    {
     "name": "stderr",
     "output_type": "stream",
     "text": [
      "C:\\Users\\D.one\\Anaconda2\\lib\\site-packages\\ipykernel_launcher.py:4: SettingWithCopyWarning: \n",
      "A value is trying to be set on a copy of a slice from a DataFrame.\n",
      "Try using .loc[row_indexer,col_indexer] = value instead\n",
      "\n",
      "See the caveats in the documentation: http://pandas.pydata.org/pandas-docs/stable/indexing.html#indexing-view-versus-copy\n",
      "  after removing the cwd from sys.path.\n",
      "C:\\Users\\D.one\\Anaconda2\\lib\\site-packages\\ipykernel_launcher.py:5: SettingWithCopyWarning: \n",
      "A value is trying to be set on a copy of a slice from a DataFrame.\n",
      "Try using .loc[row_indexer,col_indexer] = value instead\n",
      "\n",
      "See the caveats in the documentation: http://pandas.pydata.org/pandas-docs/stable/indexing.html#indexing-view-versus-copy\n",
      "  \"\"\"\n"
     ]
    },
    {
     "data": {
      "text/plain": [
       "(100, 15)"
      ]
     },
     "execution_count": 64,
     "metadata": {},
     "output_type": "execute_result"
    }
   ],
   "source": [
    "test_cat_df = test_df.select_dtypes(exclude='number')\n",
    "test_cat_df.shape\n",
    "\n",
    "test_cat_df['Bank Or Real Estate Owned'] = test_cat_df['Bank Or Real Estate Owned'].astype(str)\n",
    "test_cat_df['Bus Line Nearby'] = test_cat_df['Bus Line Nearby'].replace(1.0, True).astype(bool)\n",
    "\n",
    "test_cat_dummies = pd.get_dummies(test_cat_df)\n",
    "test_cat_dummies.shape"
   ]
  },
  {
   "cell_type": "code",
   "execution_count": 65,
   "metadata": {},
   "outputs": [
    {
     "data": {
      "text/plain": [
       "Index([                 u'Bus Line Nearby',\n",
       "                           u'Pool_No-Pool',\n",
       "              u'Property Type_Condominium',\n",
       "              u'Property Type_Residential',\n",
       "             u'Building Condition_Average',\n",
       "                u'Building Condition_Fair',\n",
       "                u'Building Condition_Good',\n",
       "           u'Building Condition_Remodeled',\n",
       "           u'Building Condition_Very Good',\n",
       "        u'Bank Or Real Estate Owned_False',\n",
       "         u'Bank Or Real Estate Owned_True',\n",
       "       u'New Construction State_Completed',\n",
       "                    u'Occupant Type_Owner',\n",
       "                   u'Occupant Type_Tenant',\n",
       "                   u'Occupant Type_Vacant'],\n",
       "      dtype='object')"
      ]
     },
     "execution_count": 65,
     "metadata": {},
     "output_type": "execute_result"
    }
   ],
   "source": [
    "test_cat_dummies.columns"
   ]
  },
  {
   "cell_type": "code",
   "execution_count": 66,
   "metadata": {
    "collapsed": true
   },
   "outputs": [],
   "source": [
    "for col in cat_dummies.columns:\n",
    "    if col not in test_cat_dummies:\n",
    "        test_cat_dummies[col] = 0\n",
    "\n",
    "test_cat_dummies = test_cat_dummies[cat_dummies.columns]"
   ]
  },
  {
   "cell_type": "code",
   "execution_count": 67,
   "metadata": {},
   "outputs": [
    {
     "data": {
      "text/html": [
       "<div>\n",
       "<style scoped>\n",
       "    .dataframe tbody tr th:only-of-type {\n",
       "        vertical-align: middle;\n",
       "    }\n",
       "\n",
       "    .dataframe tbody tr th {\n",
       "        vertical-align: top;\n",
       "    }\n",
       "\n",
       "    .dataframe thead th {\n",
       "        text-align: right;\n",
       "    }\n",
       "</style>\n",
       "<table border=\"1\" class=\"dataframe\">\n",
       "  <thead>\n",
       "    <tr style=\"text-align: right;\">\n",
       "      <th></th>\n",
       "      <th>List Price</th>\n",
       "      <th>Sold Price</th>\n",
       "      <th>Year</th>\n",
       "      <th>DOM</th>\n",
       "      <th>Bedrooms</th>\n",
       "      <th>Bathrooms</th>\n",
       "      <th>Sq Foot</th>\n",
       "      <th>Age</th>\n",
       "      <th>Lot Size</th>\n",
       "      <th>Fireplaces Total</th>\n",
       "      <th>...</th>\n",
       "      <th>Building Condition_Very Good</th>\n",
       "      <th>Bank Or Real Estate Owned_False</th>\n",
       "      <th>Bank Or Real Estate Owned_True</th>\n",
       "      <th>New Construction State_Completed</th>\n",
       "      <th>New Construction State_Presale</th>\n",
       "      <th>New Construction State_Under Construction</th>\n",
       "      <th>Occupant Type_Owner</th>\n",
       "      <th>Occupant Type_Presale</th>\n",
       "      <th>Occupant Type_Tenant</th>\n",
       "      <th>Occupant Type_Vacant</th>\n",
       "    </tr>\n",
       "  </thead>\n",
       "  <tbody>\n",
       "    <tr>\n",
       "      <th>0</th>\n",
       "      <td>600000</td>\n",
       "      <td>637500</td>\n",
       "      <td>2017</td>\n",
       "      <td>5</td>\n",
       "      <td>3</td>\n",
       "      <td>2.25</td>\n",
       "      <td>1370</td>\n",
       "      <td>1982</td>\n",
       "      <td>14183.0</td>\n",
       "      <td>0</td>\n",
       "      <td>...</td>\n",
       "      <td>1</td>\n",
       "      <td>1</td>\n",
       "      <td>0</td>\n",
       "      <td>1</td>\n",
       "      <td>0</td>\n",
       "      <td>0</td>\n",
       "      <td>1</td>\n",
       "      <td>0</td>\n",
       "      <td>0</td>\n",
       "      <td>0</td>\n",
       "    </tr>\n",
       "    <tr>\n",
       "      <th>1</th>\n",
       "      <td>578000</td>\n",
       "      <td>627000</td>\n",
       "      <td>2017</td>\n",
       "      <td>12</td>\n",
       "      <td>3</td>\n",
       "      <td>2.50</td>\n",
       "      <td>1749</td>\n",
       "      <td>1998</td>\n",
       "      <td>0.0</td>\n",
       "      <td>1</td>\n",
       "      <td>...</td>\n",
       "      <td>0</td>\n",
       "      <td>1</td>\n",
       "      <td>0</td>\n",
       "      <td>1</td>\n",
       "      <td>0</td>\n",
       "      <td>0</td>\n",
       "      <td>1</td>\n",
       "      <td>0</td>\n",
       "      <td>0</td>\n",
       "      <td>0</td>\n",
       "    </tr>\n",
       "  </tbody>\n",
       "</table>\n",
       "<p>2 rows × 38 columns</p>\n",
       "</div>"
      ],
      "text/plain": [
       "   List Price  Sold Price  Year  DOM  Bedrooms  Bathrooms  Sq Foot   Age  \\\n",
       "0      600000      637500  2017    5         3       2.25     1370  1982   \n",
       "1      578000      627000  2017   12         3       2.50     1749  1998   \n",
       "\n",
       "   Lot Size  Fireplaces Total          ...           \\\n",
       "0   14183.0                 0          ...            \n",
       "1       0.0                 1          ...            \n",
       "\n",
       "   Building Condition_Very Good  Bank Or Real Estate Owned_False  \\\n",
       "0                             1                                1   \n",
       "1                             0                                1   \n",
       "\n",
       "   Bank Or Real Estate Owned_True  New Construction State_Completed  \\\n",
       "0                               0                                 1   \n",
       "1                               0                                 1   \n",
       "\n",
       "   New Construction State_Presale  New Construction State_Under Construction  \\\n",
       "0                               0                                          0   \n",
       "1                               0                                          0   \n",
       "\n",
       "   Occupant Type_Owner  Occupant Type_Presale  Occupant Type_Tenant  \\\n",
       "0                    1                      0                     0   \n",
       "1                    1                      0                     0   \n",
       "\n",
       "   Occupant Type_Vacant  \n",
       "0                     0  \n",
       "1                     0  \n",
       "\n",
       "[2 rows x 38 columns]"
      ]
     },
     "execution_count": 67,
     "metadata": {},
     "output_type": "execute_result"
    }
   ],
   "source": [
    "# final dataset\n",
    "test_final_df = pd.concat([test_numeric_df, test_cat_dummies], axis=1)\n",
    "test_final_df.head(2)"
   ]
  },
  {
   "cell_type": "code",
   "execution_count": 68,
   "metadata": {
    "collapsed": true
   },
   "outputs": [],
   "source": [
    "test_final_df = test_final_df[final_df.columns]"
   ]
  },
  {
   "cell_type": "code",
   "execution_count": 69,
   "metadata": {},
   "outputs": [
    {
     "data": {
      "text/plain": [
       "(100, 38)"
      ]
     },
     "execution_count": 69,
     "metadata": {},
     "output_type": "execute_result"
    }
   ],
   "source": [
    "test_final_df.shape"
   ]
  },
  {
   "cell_type": "code",
   "execution_count": 70,
   "metadata": {},
   "outputs": [
    {
     "name": "stdout",
     "output_type": "stream",
     "text": [
      "<class 'pandas.core.frame.DataFrame'>\n",
      "RangeIndex: 100 entries, 0 to 99\n",
      "Data columns (total 38 columns):\n",
      "List Price                                   100 non-null int64\n",
      "Sold Price                                   100 non-null int64\n",
      "Year                                         100 non-null int64\n",
      "DOM                                          100 non-null int64\n",
      "Bedrooms                                     100 non-null int64\n",
      "Bathrooms                                    100 non-null float64\n",
      "Sq Foot                                      100 non-null int64\n",
      "Age                                          100 non-null int64\n",
      "Lot Size                                     100 non-null float64\n",
      "Fireplaces Total                             100 non-null int64\n",
      "Parking Covered Total                        100 non-null float64\n",
      "Square Footage Unfinished                    100 non-null int64\n",
      "Year Built                                   100 non-null int64\n",
      "days_to_sold                                 100 non-null int64\n",
      "Bus Line Nearby                              100 non-null bool\n",
      "Pool_Above Ground                            100 non-null int64\n",
      "Pool_Community                               100 non-null int64\n",
      "Pool_In-Ground                               100 non-null int64\n",
      "Pool_Indoor                                  100 non-null int64\n",
      "Pool_No-Pool                                 100 non-null uint8\n",
      "Property Type_Residential                    100 non-null uint8\n",
      "Building Condition_Average                   100 non-null uint8\n",
      "Building Condition_Fair                      100 non-null uint8\n",
      "Building Condition_Fixer                     100 non-null int64\n",
      "Building Condition_Good                      100 non-null uint8\n",
      "Building Condition_Remodeled                 100 non-null uint8\n",
      "Building Condition_Restored                  100 non-null int64\n",
      "Building Condition_Under Construction        100 non-null int64\n",
      "Building Condition_Very Good                 100 non-null uint8\n",
      "Bank Or Real Estate Owned_False              100 non-null uint8\n",
      "Bank Or Real Estate Owned_True               100 non-null uint8\n",
      "New Construction State_Completed             100 non-null uint8\n",
      "New Construction State_Presale               100 non-null int64\n",
      "New Construction State_Under Construction    100 non-null int64\n",
      "Occupant Type_Owner                          100 non-null uint8\n",
      "Occupant Type_Presale                        100 non-null int64\n",
      "Occupant Type_Tenant                         100 non-null uint8\n",
      "Occupant Type_Vacant                         100 non-null uint8\n",
      "dtypes: bool(1), float64(3), int64(21), uint8(13)\n",
      "memory usage: 20.2 KB\n"
     ]
    }
   ],
   "source": [
    "test_final_df.info()"
   ]
  },
  {
   "cell_type": "code",
   "execution_count": 71,
   "metadata": {
    "collapsed": true
   },
   "outputs": [],
   "source": [
    "test_X = test_final_df.drop('Sold Price', axis=1)\n",
    "test_y = test_final_df['Sold Price']"
   ]
  },
  {
   "cell_type": "code",
   "execution_count": 72,
   "metadata": {},
   "outputs": [
    {
     "name": "stdout",
     "output_type": "stream",
     "text": [
      "Accuracy on test data:  0.939075786016299\n"
     ]
    }
   ],
   "source": [
    "print \"Accuracy on test data: \", model_dt.score(test_X, test_y)"
   ]
  },
  {
   "cell_type": "code",
   "execution_count": 74,
   "metadata": {},
   "outputs": [
    {
     "data": {
      "text/plain": [
       "840762831.5099434"
      ]
     },
     "execution_count": 74,
     "metadata": {},
     "output_type": "execute_result"
    }
   ],
   "source": [
    "mean_squared_error(model_dt.predict(test_X), test_y)"
   ]
  },
  {
   "cell_type": "code",
   "execution_count": 77,
   "metadata": {},
   "outputs": [
    {
     "data": {
      "text/plain": [
       "22495.3253899"
      ]
     },
     "execution_count": 77,
     "metadata": {},
     "output_type": "execute_result"
    }
   ],
   "source": [
    "mean_absolute_error(model_dt.predict(test_X), test_y)"
   ]
  }
 ],
 "metadata": {
  "kernelspec": {
   "display_name": "Python 3",
   "language": "python",
   "name": "python3"
  },
  "language_info": {
   "codemirror_mode": {
    "name": "ipython",
    "version": 3
   },
   "file_extension": ".py",
   "mimetype": "text/x-python",
   "name": "python",
   "nbconvert_exporter": "python",
   "pygments_lexer": "ipython3",
   "version": "3.6.3"
  }
 },
 "nbformat": 4,
 "nbformat_minor": 2
}
